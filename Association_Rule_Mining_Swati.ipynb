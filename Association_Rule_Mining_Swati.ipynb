{
  "nbformat": 4,
  "nbformat_minor": 0,
  "metadata": {
    "colab": {
      "name": "Association_Rule_Mining_Swati.ipynb",
      "provenance": [],
      "collapsed_sections": [],
      "toc_visible": true
    },
    "kernelspec": {
      "name": "python3",
      "display_name": "Python 3"
    }
  },
  "cells": [
    {
      "cell_type": "markdown",
      "metadata": {
        "id": "rIyraWanu23q",
        "colab_type": "text"
      },
      "source": [
        "# BAX453 - Individual Assignment 2 - Part A\n",
        "##Association Rule Mining - Part A\n",
        "\n",
        "Submitted by Swati Vaishampayan"
      ]
    },
    {
      "cell_type": "code",
      "metadata": {
        "id": "9XA00TMe77oS",
        "colab_type": "code",
        "colab": {}
      },
      "source": [
        "import pandas as pd\n",
        "import numpy as np\n",
        "import seaborn as sns\n",
        "import matplotlib.pyplot as plt #visualisation\n",
        "from datetime import datetime as dt #timestamp to date conversion\n",
        "from mlxtend.preprocessing import TransactionEncoder           # fre\n",
        "from mlxtend.frequent_patterns import apriori                  #frequent itemset generation\n",
        "from mlxtend.frequent_patterns import association_rules\n"
      ],
      "execution_count": 0,
      "outputs": []
    },
    {
      "cell_type": "code",
      "metadata": {
        "id": "mYUkjQZv7_x-",
        "colab_type": "code",
        "colab": {
          "base_uri": "https://localhost:8080/",
          "height": 263
        },
        "outputId": "7cd81711-83fd-4718-97f4-379227e7ddc7"
      },
      "source": [
        "txns = pd.read_excel(\"/content/drive/My Drive/Data for Colab/transactions_by_dept.xlsx\")\n",
        "# Data checks\n",
        "txns.head(5)\n",
        "txns.dtypes    #2064 tranactions\n",
        "txns.isnull().sum() # no null values\n",
        "txns[txns.duplicated()] #no duplicates\n",
        "len(txns.Dept.unique()) #unique 160 items\n",
        "txns.head(7)"
      ],
      "execution_count": 59,
      "outputs": [
        {
          "output_type": "execute_result",
          "data": {
            "text/html": [
              "<div>\n",
              "<style scoped>\n",
              "    .dataframe tbody tr th:only-of-type {\n",
              "        vertical-align: middle;\n",
              "    }\n",
              "\n",
              "    .dataframe tbody tr th {\n",
              "        vertical-align: top;\n",
              "    }\n",
              "\n",
              "    .dataframe thead th {\n",
              "        text-align: right;\n",
              "    }\n",
              "</style>\n",
              "<table border=\"1\" class=\"dataframe\">\n",
              "  <thead>\n",
              "    <tr style=\"text-align: right;\">\n",
              "      <th></th>\n",
              "      <th>POS Txn</th>\n",
              "      <th>Dept</th>\n",
              "      <th>ID</th>\n",
              "      <th>Sales U</th>\n",
              "    </tr>\n",
              "  </thead>\n",
              "  <tbody>\n",
              "    <tr>\n",
              "      <th>0</th>\n",
              "      <td>16120100160021008773</td>\n",
              "      <td>0261:HOSIERY</td>\n",
              "      <td>250</td>\n",
              "      <td>2</td>\n",
              "    </tr>\n",
              "    <tr>\n",
              "      <th>1</th>\n",
              "      <td>16120100160021008773</td>\n",
              "      <td>0634:VITAMINS &amp; HLTH AIDS</td>\n",
              "      <td>102</td>\n",
              "      <td>1</td>\n",
              "    </tr>\n",
              "    <tr>\n",
              "      <th>2</th>\n",
              "      <td>16120100160021008773</td>\n",
              "      <td>0879:PET SUPPLIES</td>\n",
              "      <td>158</td>\n",
              "      <td>2</td>\n",
              "    </tr>\n",
              "    <tr>\n",
              "      <th>3</th>\n",
              "      <td>16120100160021008773</td>\n",
              "      <td>0973:CANDY</td>\n",
              "      <td>175</td>\n",
              "      <td>2</td>\n",
              "    </tr>\n",
              "    <tr>\n",
              "      <th>4</th>\n",
              "      <td>16120100160021008773</td>\n",
              "      <td>0982:SPIRITS</td>\n",
              "      <td>176</td>\n",
              "      <td>1</td>\n",
              "    </tr>\n",
              "    <tr>\n",
              "      <th>5</th>\n",
              "      <td>16120100160021008773</td>\n",
              "      <td>0983:WINE</td>\n",
              "      <td>177</td>\n",
              "      <td>4</td>\n",
              "    </tr>\n",
              "    <tr>\n",
              "      <th>6</th>\n",
              "      <td>16120100160021008773</td>\n",
              "      <td>0991:TOBACCO</td>\n",
              "      <td>179</td>\n",
              "      <td>2</td>\n",
              "    </tr>\n",
              "  </tbody>\n",
              "</table>\n",
              "</div>"
            ],
            "text/plain": [
              "                POS Txn                       Dept   ID  Sales U\n",
              "0  16120100160021008773               0261:HOSIERY  250        2\n",
              "1  16120100160021008773  0634:VITAMINS & HLTH AIDS  102        1\n",
              "2  16120100160021008773          0879:PET SUPPLIES  158        2\n",
              "3  16120100160021008773                 0973:CANDY  175        2\n",
              "4  16120100160021008773               0982:SPIRITS  176        1\n",
              "5  16120100160021008773                  0983:WINE  177        4\n",
              "6  16120100160021008773               0991:TOBACCO  179        2"
            ]
          },
          "metadata": {
            "tags": []
          },
          "execution_count": 59
        }
      ]
    },
    {
      "cell_type": "markdown",
      "metadata": {
        "id": "ufe1B8H7WKyV",
        "colab_type": "text"
      },
      "source": [
        "No of transactions - 2064, \n",
        "No. of unique Items - 160, \n",
        "No. unique itemsets - 1009\n"
      ]
    },
    {
      "cell_type": "code",
      "metadata": {
        "id": "jl0G34LP7_oE",
        "colab_type": "code",
        "colab": {
          "base_uri": "https://localhost:8080/",
          "height": 121
        },
        "outputId": "80fc126d-dbca-4a2b-8841-ca1761f976d6"
      },
      "source": [
        "#converting transactional data to list format\n",
        "itemlist = txns.groupby(\"POS Txn\")[\"Dept\"].apply(lambda x: x.values.tolist()).reset_index()[\"Dept\"].values.tolist()\n",
        "itemlist[1:7]"
      ],
      "execution_count": 60,
      "outputs": [
        {
          "output_type": "execute_result",
          "data": {
            "text/plain": [
              "[['0597:HEALTH AIDS', '0604:PERSONAL CARE'],\n",
              " ['0819:PRE-RECORDED A/V', '0826:SMALL ELECTRICS', '0982:SPIRITS'],\n",
              " ['0961:GENERAL GROCERIES'],\n",
              " ['0982:SPIRITS'],\n",
              " ['0982:SPIRITS', '0991:TOBACCO'],\n",
              " ['0879:PET SUPPLIES', '0982:SPIRITS', '0983:WINE', '0984:BEER']]"
            ]
          },
          "metadata": {
            "tags": []
          },
          "execution_count": 60
        }
      ]
    },
    {
      "cell_type": "code",
      "metadata": {
        "id": "9OrasqlhH-BJ",
        "colab_type": "code",
        "colab": {}
      },
      "source": [
        "#list to df creation\n",
        "te = TransactionEncoder()\n",
        "te_ary = te.fit(itemlist).transform(itemlist)\n",
        "df = pd.DataFrame(te_ary, columns=te.columns_)"
      ],
      "execution_count": 0,
      "outputs": []
    },
    {
      "cell_type": "markdown",
      "metadata": {
        "id": "C4C7eUNtYN8Y",
        "colab_type": "text"
      },
      "source": [
        "## Frequent Itemsets and Association Rules generation - Part A (a)\n",
        "\n",
        "### First we generate a list of frequent itemsets. We need to set a minimum threshold for support , which indicates how frequently the item set occurs in data"
      ]
    },
    {
      "cell_type": "code",
      "metadata": {
        "id": "zrI2FEM6YIYj",
        "colab_type": "code",
        "colab": {
          "base_uri": "https://localhost:8080/",
          "height": 1000
        },
        "outputId": "d069b4ac-a4da-4096-da12-af2f5a961080"
      },
      "source": [
        "#generating frequent itemsets with 2% support\n",
        "frequent_itemsets = apriori(df, min_support=0.02, use_colnames=True)\n",
        "frequent_itemsets.sort_values(by = ['support'], ascending= False)"
      ],
      "execution_count": 75,
      "outputs": [
        {
          "output_type": "execute_result",
          "data": {
            "text/html": [
              "<div>\n",
              "<style scoped>\n",
              "    .dataframe tbody tr th:only-of-type {\n",
              "        vertical-align: middle;\n",
              "    }\n",
              "\n",
              "    .dataframe tbody tr th {\n",
              "        vertical-align: top;\n",
              "    }\n",
              "\n",
              "    .dataframe thead th {\n",
              "        text-align: right;\n",
              "    }\n",
              "</style>\n",
              "<table border=\"1\" class=\"dataframe\">\n",
              "  <thead>\n",
              "    <tr style=\"text-align: right;\">\n",
              "      <th></th>\n",
              "      <th>support</th>\n",
              "      <th>itemsets</th>\n",
              "    </tr>\n",
              "  </thead>\n",
              "  <tbody>\n",
              "    <tr>\n",
              "      <th>20</th>\n",
              "      <td>0.152132</td>\n",
              "      <td>(0982:SPIRITS)</td>\n",
              "    </tr>\n",
              "    <tr>\n",
              "      <th>19</th>\n",
              "      <td>0.133236</td>\n",
              "      <td>(0973:CANDY)</td>\n",
              "    </tr>\n",
              "    <tr>\n",
              "      <th>18</th>\n",
              "      <td>0.122578</td>\n",
              "      <td>(0962:BEVERAGES)</td>\n",
              "    </tr>\n",
              "    <tr>\n",
              "      <th>7</th>\n",
              "      <td>0.096899</td>\n",
              "      <td>(0597:HEALTH AIDS)</td>\n",
              "    </tr>\n",
              "    <tr>\n",
              "      <th>21</th>\n",
              "      <td>0.093023</td>\n",
              "      <td>(0983:WINE)</td>\n",
              "    </tr>\n",
              "    <tr>\n",
              "      <th>23</th>\n",
              "      <td>0.089632</td>\n",
              "      <td>(0991:TOBACCO)</td>\n",
              "    </tr>\n",
              "    <tr>\n",
              "      <th>13</th>\n",
              "      <td>0.076550</td>\n",
              "      <td>(0836:HOUSEHOLD CLEANING)</td>\n",
              "    </tr>\n",
              "    <tr>\n",
              "      <th>9</th>\n",
              "      <td>0.073643</td>\n",
              "      <td>(0604:PERSONAL CARE)</td>\n",
              "    </tr>\n",
              "    <tr>\n",
              "      <th>22</th>\n",
              "      <td>0.064438</td>\n",
              "      <td>(0984:BEER)</td>\n",
              "    </tr>\n",
              "    <tr>\n",
              "      <th>8</th>\n",
              "      <td>0.064438</td>\n",
              "      <td>(0603:BEAUTY CARE)</td>\n",
              "    </tr>\n",
              "    <tr>\n",
              "      <th>0</th>\n",
              "      <td>0.054264</td>\n",
              "      <td>(0072:BARBER SERVICES)</td>\n",
              "    </tr>\n",
              "    <tr>\n",
              "      <th>4</th>\n",
              "      <td>0.049903</td>\n",
              "      <td>(0532:AMERICAN GREETINGS)</td>\n",
              "    </tr>\n",
              "    <tr>\n",
              "      <th>15</th>\n",
              "      <td>0.049903</td>\n",
              "      <td>(0879:PET SUPPLIES)</td>\n",
              "    </tr>\n",
              "    <tr>\n",
              "      <th>17</th>\n",
              "      <td>0.047965</td>\n",
              "      <td>(0961:GENERAL GROCERIES)</td>\n",
              "    </tr>\n",
              "    <tr>\n",
              "      <th>11</th>\n",
              "      <td>0.045543</td>\n",
              "      <td>(0646:SEASONAL)</td>\n",
              "    </tr>\n",
              "    <tr>\n",
              "      <th>31</th>\n",
              "      <td>0.037306</td>\n",
              "      <td>(0983:WINE, 0982:SPIRITS)</td>\n",
              "    </tr>\n",
              "    <tr>\n",
              "      <th>10</th>\n",
              "      <td>0.032946</td>\n",
              "      <td>(0640:TOYS)</td>\n",
              "    </tr>\n",
              "    <tr>\n",
              "      <th>29</th>\n",
              "      <td>0.032461</td>\n",
              "      <td>(0973:CANDY, 0962:BEVERAGES)</td>\n",
              "    </tr>\n",
              "    <tr>\n",
              "      <th>25</th>\n",
              "      <td>0.031008</td>\n",
              "      <td>(0597:HEALTH AIDS, 0604:PERSONAL CARE)</td>\n",
              "    </tr>\n",
              "    <tr>\n",
              "      <th>26</th>\n",
              "      <td>0.029554</td>\n",
              "      <td>(0597:HEALTH AIDS, 0836:HOUSEHOLD CLEANING)</td>\n",
              "    </tr>\n",
              "    <tr>\n",
              "      <th>3</th>\n",
              "      <td>0.025678</td>\n",
              "      <td>(0530:SCHOOL/OFFIC SUPP)</td>\n",
              "    </tr>\n",
              "    <tr>\n",
              "      <th>33</th>\n",
              "      <td>0.025194</td>\n",
              "      <td>(0991:TOBACCO, 0982:SPIRITS)</td>\n",
              "    </tr>\n",
              "    <tr>\n",
              "      <th>5</th>\n",
              "      <td>0.025194</td>\n",
              "      <td>(0590:MASS COSMETICS)</td>\n",
              "    </tr>\n",
              "    <tr>\n",
              "      <th>12</th>\n",
              "      <td>0.025194</td>\n",
              "      <td>(0826:SMALL ELECTRICS)</td>\n",
              "    </tr>\n",
              "    <tr>\n",
              "      <th>1</th>\n",
              "      <td>0.024709</td>\n",
              "      <td>(0360:MENS FURNISHINGS)</td>\n",
              "    </tr>\n",
              "    <tr>\n",
              "      <th>32</th>\n",
              "      <td>0.024225</td>\n",
              "      <td>(0984:BEER, 0982:SPIRITS)</td>\n",
              "    </tr>\n",
              "    <tr>\n",
              "      <th>14</th>\n",
              "      <td>0.024225</td>\n",
              "      <td>(0837:GENERAL HOUSEWARES)</td>\n",
              "    </tr>\n",
              "    <tr>\n",
              "      <th>2</th>\n",
              "      <td>0.024225</td>\n",
              "      <td>(0380:MENS ACTIVEWEAR)</td>\n",
              "    </tr>\n",
              "    <tr>\n",
              "      <th>6</th>\n",
              "      <td>0.024225</td>\n",
              "      <td>(0593:PRESTIGE COSMETICS)</td>\n",
              "    </tr>\n",
              "    <tr>\n",
              "      <th>30</th>\n",
              "      <td>0.023740</td>\n",
              "      <td>(0962:BEVERAGES, 0982:SPIRITS)</td>\n",
              "    </tr>\n",
              "    <tr>\n",
              "      <th>16</th>\n",
              "      <td>0.023740</td>\n",
              "      <td>(0884:LAWN &amp; GARDEN)</td>\n",
              "    </tr>\n",
              "    <tr>\n",
              "      <th>27</th>\n",
              "      <td>0.021802</td>\n",
              "      <td>(0973:CANDY, 0597:HEALTH AIDS)</td>\n",
              "    </tr>\n",
              "    <tr>\n",
              "      <th>28</th>\n",
              "      <td>0.020833</td>\n",
              "      <td>(0962:BEVERAGES, 0961:GENERAL GROCERIES)</td>\n",
              "    </tr>\n",
              "    <tr>\n",
              "      <th>24</th>\n",
              "      <td>0.020349</td>\n",
              "      <td>(0603:BEAUTY CARE, 0597:HEALTH AIDS)</td>\n",
              "    </tr>\n",
              "  </tbody>\n",
              "</table>\n",
              "</div>"
            ],
            "text/plain": [
              "     support                                     itemsets\n",
              "20  0.152132                               (0982:SPIRITS)\n",
              "19  0.133236                                 (0973:CANDY)\n",
              "18  0.122578                             (0962:BEVERAGES)\n",
              "7   0.096899                           (0597:HEALTH AIDS)\n",
              "21  0.093023                                  (0983:WINE)\n",
              "23  0.089632                               (0991:TOBACCO)\n",
              "13  0.076550                    (0836:HOUSEHOLD CLEANING)\n",
              "9   0.073643                         (0604:PERSONAL CARE)\n",
              "22  0.064438                                  (0984:BEER)\n",
              "8   0.064438                           (0603:BEAUTY CARE)\n",
              "0   0.054264                       (0072:BARBER SERVICES)\n",
              "4   0.049903                    (0532:AMERICAN GREETINGS)\n",
              "15  0.049903                          (0879:PET SUPPLIES)\n",
              "17  0.047965                     (0961:GENERAL GROCERIES)\n",
              "11  0.045543                              (0646:SEASONAL)\n",
              "31  0.037306                    (0983:WINE, 0982:SPIRITS)\n",
              "10  0.032946                                  (0640:TOYS)\n",
              "29  0.032461                 (0973:CANDY, 0962:BEVERAGES)\n",
              "25  0.031008       (0597:HEALTH AIDS, 0604:PERSONAL CARE)\n",
              "26  0.029554  (0597:HEALTH AIDS, 0836:HOUSEHOLD CLEANING)\n",
              "3   0.025678                     (0530:SCHOOL/OFFIC SUPP)\n",
              "33  0.025194                 (0991:TOBACCO, 0982:SPIRITS)\n",
              "5   0.025194                        (0590:MASS COSMETICS)\n",
              "12  0.025194                       (0826:SMALL ELECTRICS)\n",
              "1   0.024709                      (0360:MENS FURNISHINGS)\n",
              "32  0.024225                    (0984:BEER, 0982:SPIRITS)\n",
              "14  0.024225                    (0837:GENERAL HOUSEWARES)\n",
              "2   0.024225                       (0380:MENS ACTIVEWEAR)\n",
              "6   0.024225                    (0593:PRESTIGE COSMETICS)\n",
              "30  0.023740               (0962:BEVERAGES, 0982:SPIRITS)\n",
              "16  0.023740                         (0884:LAWN & GARDEN)\n",
              "27  0.021802               (0973:CANDY, 0597:HEALTH AIDS)\n",
              "28  0.020833     (0962:BEVERAGES, 0961:GENERAL GROCERIES)\n",
              "24  0.020349         (0603:BEAUTY CARE, 0597:HEALTH AIDS)"
            ]
          },
          "metadata": {
            "tags": []
          },
          "execution_count": 75
        }
      ]
    },
    {
      "cell_type": "code",
      "metadata": {
        "id": "zi8HoYHlSpME",
        "colab_type": "code",
        "colab": {
          "base_uri": "https://localhost:8080/",
          "height": 631
        },
        "outputId": "88a37bdc-f314-44a2-aac4-ee68c516675f"
      },
      "source": [
        "##generating frequent itemsets with 3% support\n",
        "frequent_itemsets2 = apriori(df, min_support=0.03, use_colnames=True)\n",
        "frequent_itemsets2.sort_values(by = [\"support\"], ascending = False)"
      ],
      "execution_count": 77,
      "outputs": [
        {
          "output_type": "execute_result",
          "data": {
            "text/html": [
              "<div>\n",
              "<style scoped>\n",
              "    .dataframe tbody tr th:only-of-type {\n",
              "        vertical-align: middle;\n",
              "    }\n",
              "\n",
              "    .dataframe tbody tr th {\n",
              "        vertical-align: top;\n",
              "    }\n",
              "\n",
              "    .dataframe thead th {\n",
              "        text-align: right;\n",
              "    }\n",
              "</style>\n",
              "<table border=\"1\" class=\"dataframe\">\n",
              "  <thead>\n",
              "    <tr style=\"text-align: right;\">\n",
              "      <th></th>\n",
              "      <th>support</th>\n",
              "      <th>itemsets</th>\n",
              "    </tr>\n",
              "  </thead>\n",
              "  <tbody>\n",
              "    <tr>\n",
              "      <th>12</th>\n",
              "      <td>0.152132</td>\n",
              "      <td>(0982:SPIRITS)</td>\n",
              "    </tr>\n",
              "    <tr>\n",
              "      <th>11</th>\n",
              "      <td>0.133236</td>\n",
              "      <td>(0973:CANDY)</td>\n",
              "    </tr>\n",
              "    <tr>\n",
              "      <th>10</th>\n",
              "      <td>0.122578</td>\n",
              "      <td>(0962:BEVERAGES)</td>\n",
              "    </tr>\n",
              "    <tr>\n",
              "      <th>2</th>\n",
              "      <td>0.096899</td>\n",
              "      <td>(0597:HEALTH AIDS)</td>\n",
              "    </tr>\n",
              "    <tr>\n",
              "      <th>13</th>\n",
              "      <td>0.093023</td>\n",
              "      <td>(0983:WINE)</td>\n",
              "    </tr>\n",
              "    <tr>\n",
              "      <th>15</th>\n",
              "      <td>0.089632</td>\n",
              "      <td>(0991:TOBACCO)</td>\n",
              "    </tr>\n",
              "    <tr>\n",
              "      <th>7</th>\n",
              "      <td>0.076550</td>\n",
              "      <td>(0836:HOUSEHOLD CLEANING)</td>\n",
              "    </tr>\n",
              "    <tr>\n",
              "      <th>4</th>\n",
              "      <td>0.073643</td>\n",
              "      <td>(0604:PERSONAL CARE)</td>\n",
              "    </tr>\n",
              "    <tr>\n",
              "      <th>3</th>\n",
              "      <td>0.064438</td>\n",
              "      <td>(0603:BEAUTY CARE)</td>\n",
              "    </tr>\n",
              "    <tr>\n",
              "      <th>14</th>\n",
              "      <td>0.064438</td>\n",
              "      <td>(0984:BEER)</td>\n",
              "    </tr>\n",
              "    <tr>\n",
              "      <th>0</th>\n",
              "      <td>0.054264</td>\n",
              "      <td>(0072:BARBER SERVICES)</td>\n",
              "    </tr>\n",
              "    <tr>\n",
              "      <th>8</th>\n",
              "      <td>0.049903</td>\n",
              "      <td>(0879:PET SUPPLIES)</td>\n",
              "    </tr>\n",
              "    <tr>\n",
              "      <th>1</th>\n",
              "      <td>0.049903</td>\n",
              "      <td>(0532:AMERICAN GREETINGS)</td>\n",
              "    </tr>\n",
              "    <tr>\n",
              "      <th>9</th>\n",
              "      <td>0.047965</td>\n",
              "      <td>(0961:GENERAL GROCERIES)</td>\n",
              "    </tr>\n",
              "    <tr>\n",
              "      <th>6</th>\n",
              "      <td>0.045543</td>\n",
              "      <td>(0646:SEASONAL)</td>\n",
              "    </tr>\n",
              "    <tr>\n",
              "      <th>18</th>\n",
              "      <td>0.037306</td>\n",
              "      <td>(0983:WINE, 0982:SPIRITS)</td>\n",
              "    </tr>\n",
              "    <tr>\n",
              "      <th>5</th>\n",
              "      <td>0.032946</td>\n",
              "      <td>(0640:TOYS)</td>\n",
              "    </tr>\n",
              "    <tr>\n",
              "      <th>17</th>\n",
              "      <td>0.032461</td>\n",
              "      <td>(0973:CANDY, 0962:BEVERAGES)</td>\n",
              "    </tr>\n",
              "    <tr>\n",
              "      <th>16</th>\n",
              "      <td>0.031008</td>\n",
              "      <td>(0597:HEALTH AIDS, 0604:PERSONAL CARE)</td>\n",
              "    </tr>\n",
              "  </tbody>\n",
              "</table>\n",
              "</div>"
            ],
            "text/plain": [
              "     support                                itemsets\n",
              "12  0.152132                          (0982:SPIRITS)\n",
              "11  0.133236                            (0973:CANDY)\n",
              "10  0.122578                        (0962:BEVERAGES)\n",
              "2   0.096899                      (0597:HEALTH AIDS)\n",
              "13  0.093023                             (0983:WINE)\n",
              "15  0.089632                          (0991:TOBACCO)\n",
              "7   0.076550               (0836:HOUSEHOLD CLEANING)\n",
              "4   0.073643                    (0604:PERSONAL CARE)\n",
              "3   0.064438                      (0603:BEAUTY CARE)\n",
              "14  0.064438                             (0984:BEER)\n",
              "0   0.054264                  (0072:BARBER SERVICES)\n",
              "8   0.049903                     (0879:PET SUPPLIES)\n",
              "1   0.049903               (0532:AMERICAN GREETINGS)\n",
              "9   0.047965                (0961:GENERAL GROCERIES)\n",
              "6   0.045543                         (0646:SEASONAL)\n",
              "18  0.037306               (0983:WINE, 0982:SPIRITS)\n",
              "5   0.032946                             (0640:TOYS)\n",
              "17  0.032461            (0973:CANDY, 0962:BEVERAGES)\n",
              "16  0.031008  (0597:HEALTH AIDS, 0604:PERSONAL CARE)"
            ]
          },
          "metadata": {
            "tags": []
          },
          "execution_count": 77
        }
      ]
    },
    {
      "cell_type": "markdown",
      "metadata": {
        "id": "56LrWP9HcOqd",
        "colab_type": "text"
      },
      "source": [
        "Key thing to note is - for this dataset the support value is very less ( 0.02 - 0.03) to get few combinations for frequent itemsets.\n",
        "\n",
        "With 0.03, 9 combinations \n",
        "\n",
        "With 0.02, 3 combinations \n",
        "\n",
        "Itemset Wine and Spirits has the highest support value. Other goo combinations are:\n",
        "Candy and Beverages\n",
        "Health Aid and Personal Care\n",
        "Health Aid and Household cleanings"
      ]
    },
    {
      "cell_type": "markdown",
      "metadata": {
        "id": "0fevHJ4_8CyO",
        "colab_type": "text"
      },
      "source": [
        "### Association Rules - Part A (a)\n",
        "\n",
        "We generate association rules where we set a minimum confidence level. \n",
        "Confidence is the ratio of combinations of consequent as well as the antecedent over all occurances of antecdant. "
      ]
    },
    {
      "cell_type": "code",
      "metadata": {
        "id": "OZ1Us9WAvJsI",
        "colab_type": "code",
        "outputId": "f663e997-6637-4fab-b9f8-b449e6984367",
        "colab": {
          "base_uri": "https://localhost:8080/",
          "height": 654
        }
      },
      "source": [
        "rules = association_rules(frequent_itemsets, metric=\"confidence\", min_threshold=0.2)\n",
        "rules.sort_values(by = [\"lift\",\"confidence\",\"support\"], ascending = False)"
      ],
      "execution_count": 79,
      "outputs": [
        {
          "output_type": "execute_result",
          "data": {
            "text/html": [
              "<div>\n",
              "<style scoped>\n",
              "    .dataframe tbody tr th:only-of-type {\n",
              "        vertical-align: middle;\n",
              "    }\n",
              "\n",
              "    .dataframe tbody tr th {\n",
              "        vertical-align: top;\n",
              "    }\n",
              "\n",
              "    .dataframe thead th {\n",
              "        text-align: right;\n",
              "    }\n",
              "</style>\n",
              "<table border=\"1\" class=\"dataframe\">\n",
              "  <thead>\n",
              "    <tr style=\"text-align: right;\">\n",
              "      <th></th>\n",
              "      <th>antecedents</th>\n",
              "      <th>consequents</th>\n",
              "      <th>antecedent support</th>\n",
              "      <th>consequent support</th>\n",
              "      <th>support</th>\n",
              "      <th>confidence</th>\n",
              "      <th>lift</th>\n",
              "      <th>leverage</th>\n",
              "      <th>conviction</th>\n",
              "    </tr>\n",
              "  </thead>\n",
              "  <tbody>\n",
              "    <tr>\n",
              "      <th>3</th>\n",
              "      <td>(0604:PERSONAL CARE)</td>\n",
              "      <td>(0597:HEALTH AIDS)</td>\n",
              "      <td>0.073643</td>\n",
              "      <td>0.096899</td>\n",
              "      <td>0.031008</td>\n",
              "      <td>0.421053</td>\n",
              "      <td>4.345263</td>\n",
              "      <td>0.023872</td>\n",
              "      <td>1.559901</td>\n",
              "    </tr>\n",
              "    <tr>\n",
              "      <th>2</th>\n",
              "      <td>(0597:HEALTH AIDS)</td>\n",
              "      <td>(0604:PERSONAL CARE)</td>\n",
              "      <td>0.096899</td>\n",
              "      <td>0.073643</td>\n",
              "      <td>0.031008</td>\n",
              "      <td>0.320000</td>\n",
              "      <td>4.345263</td>\n",
              "      <td>0.023872</td>\n",
              "      <td>1.362289</td>\n",
              "    </tr>\n",
              "    <tr>\n",
              "      <th>4</th>\n",
              "      <td>(0597:HEALTH AIDS)</td>\n",
              "      <td>(0836:HOUSEHOLD CLEANING)</td>\n",
              "      <td>0.096899</td>\n",
              "      <td>0.076550</td>\n",
              "      <td>0.029554</td>\n",
              "      <td>0.305000</td>\n",
              "      <td>3.984304</td>\n",
              "      <td>0.022137</td>\n",
              "      <td>1.328704</td>\n",
              "    </tr>\n",
              "    <tr>\n",
              "      <th>5</th>\n",
              "      <td>(0836:HOUSEHOLD CLEANING)</td>\n",
              "      <td>(0597:HEALTH AIDS)</td>\n",
              "      <td>0.076550</td>\n",
              "      <td>0.096899</td>\n",
              "      <td>0.029554</td>\n",
              "      <td>0.386076</td>\n",
              "      <td>3.984304</td>\n",
              "      <td>0.022137</td>\n",
              "      <td>1.471030</td>\n",
              "    </tr>\n",
              "    <tr>\n",
              "      <th>7</th>\n",
              "      <td>(0961:GENERAL GROCERIES)</td>\n",
              "      <td>(0962:BEVERAGES)</td>\n",
              "      <td>0.047965</td>\n",
              "      <td>0.122578</td>\n",
              "      <td>0.020833</td>\n",
              "      <td>0.434343</td>\n",
              "      <td>3.543418</td>\n",
              "      <td>0.014954</td>\n",
              "      <td>1.551158</td>\n",
              "    </tr>\n",
              "    <tr>\n",
              "      <th>0</th>\n",
              "      <td>(0603:BEAUTY CARE)</td>\n",
              "      <td>(0597:HEALTH AIDS)</td>\n",
              "      <td>0.064438</td>\n",
              "      <td>0.096899</td>\n",
              "      <td>0.020349</td>\n",
              "      <td>0.315789</td>\n",
              "      <td>3.258947</td>\n",
              "      <td>0.014105</td>\n",
              "      <td>1.319917</td>\n",
              "    </tr>\n",
              "    <tr>\n",
              "      <th>1</th>\n",
              "      <td>(0597:HEALTH AIDS)</td>\n",
              "      <td>(0603:BEAUTY CARE)</td>\n",
              "      <td>0.096899</td>\n",
              "      <td>0.064438</td>\n",
              "      <td>0.020349</td>\n",
              "      <td>0.210000</td>\n",
              "      <td>3.258947</td>\n",
              "      <td>0.014105</td>\n",
              "      <td>1.184256</td>\n",
              "    </tr>\n",
              "    <tr>\n",
              "      <th>11</th>\n",
              "      <td>(0982:SPIRITS)</td>\n",
              "      <td>(0983:WINE)</td>\n",
              "      <td>0.152132</td>\n",
              "      <td>0.093023</td>\n",
              "      <td>0.037306</td>\n",
              "      <td>0.245223</td>\n",
              "      <td>2.636146</td>\n",
              "      <td>0.023154</td>\n",
              "      <td>1.201649</td>\n",
              "    </tr>\n",
              "    <tr>\n",
              "      <th>10</th>\n",
              "      <td>(0983:WINE)</td>\n",
              "      <td>(0982:SPIRITS)</td>\n",
              "      <td>0.093023</td>\n",
              "      <td>0.152132</td>\n",
              "      <td>0.037306</td>\n",
              "      <td>0.401042</td>\n",
              "      <td>2.636146</td>\n",
              "      <td>0.023154</td>\n",
              "      <td>1.415571</td>\n",
              "    </tr>\n",
              "    <tr>\n",
              "      <th>12</th>\n",
              "      <td>(0984:BEER)</td>\n",
              "      <td>(0982:SPIRITS)</td>\n",
              "      <td>0.064438</td>\n",
              "      <td>0.152132</td>\n",
              "      <td>0.024225</td>\n",
              "      <td>0.375940</td>\n",
              "      <td>2.471146</td>\n",
              "      <td>0.014422</td>\n",
              "      <td>1.358632</td>\n",
              "    </tr>\n",
              "    <tr>\n",
              "      <th>9</th>\n",
              "      <td>(0962:BEVERAGES)</td>\n",
              "      <td>(0973:CANDY)</td>\n",
              "      <td>0.122578</td>\n",
              "      <td>0.133236</td>\n",
              "      <td>0.032461</td>\n",
              "      <td>0.264822</td>\n",
              "      <td>1.987610</td>\n",
              "      <td>0.016129</td>\n",
              "      <td>1.178985</td>\n",
              "    </tr>\n",
              "    <tr>\n",
              "      <th>8</th>\n",
              "      <td>(0973:CANDY)</td>\n",
              "      <td>(0962:BEVERAGES)</td>\n",
              "      <td>0.133236</td>\n",
              "      <td>0.122578</td>\n",
              "      <td>0.032461</td>\n",
              "      <td>0.243636</td>\n",
              "      <td>1.987610</td>\n",
              "      <td>0.016129</td>\n",
              "      <td>1.160054</td>\n",
              "    </tr>\n",
              "    <tr>\n",
              "      <th>13</th>\n",
              "      <td>(0991:TOBACCO)</td>\n",
              "      <td>(0982:SPIRITS)</td>\n",
              "      <td>0.089632</td>\n",
              "      <td>0.152132</td>\n",
              "      <td>0.025194</td>\n",
              "      <td>0.281081</td>\n",
              "      <td>1.847616</td>\n",
              "      <td>0.011558</td>\n",
              "      <td>1.179366</td>\n",
              "    </tr>\n",
              "    <tr>\n",
              "      <th>6</th>\n",
              "      <td>(0597:HEALTH AIDS)</td>\n",
              "      <td>(0973:CANDY)</td>\n",
              "      <td>0.096899</td>\n",
              "      <td>0.133236</td>\n",
              "      <td>0.021802</td>\n",
              "      <td>0.225000</td>\n",
              "      <td>1.688727</td>\n",
              "      <td>0.008892</td>\n",
              "      <td>1.118405</td>\n",
              "    </tr>\n",
              "  </tbody>\n",
              "</table>\n",
              "</div>"
            ],
            "text/plain": [
              "                  antecedents                consequents  ...  leverage  conviction\n",
              "3        (0604:PERSONAL CARE)         (0597:HEALTH AIDS)  ...  0.023872    1.559901\n",
              "2          (0597:HEALTH AIDS)       (0604:PERSONAL CARE)  ...  0.023872    1.362289\n",
              "4          (0597:HEALTH AIDS)  (0836:HOUSEHOLD CLEANING)  ...  0.022137    1.328704\n",
              "5   (0836:HOUSEHOLD CLEANING)         (0597:HEALTH AIDS)  ...  0.022137    1.471030\n",
              "7    (0961:GENERAL GROCERIES)           (0962:BEVERAGES)  ...  0.014954    1.551158\n",
              "0          (0603:BEAUTY CARE)         (0597:HEALTH AIDS)  ...  0.014105    1.319917\n",
              "1          (0597:HEALTH AIDS)         (0603:BEAUTY CARE)  ...  0.014105    1.184256\n",
              "11             (0982:SPIRITS)                (0983:WINE)  ...  0.023154    1.201649\n",
              "10                (0983:WINE)             (0982:SPIRITS)  ...  0.023154    1.415571\n",
              "12                (0984:BEER)             (0982:SPIRITS)  ...  0.014422    1.358632\n",
              "9            (0962:BEVERAGES)               (0973:CANDY)  ...  0.016129    1.178985\n",
              "8                (0973:CANDY)           (0962:BEVERAGES)  ...  0.016129    1.160054\n",
              "13             (0991:TOBACCO)             (0982:SPIRITS)  ...  0.011558    1.179366\n",
              "6          (0597:HEALTH AIDS)               (0973:CANDY)  ...  0.008892    1.118405\n",
              "\n",
              "[14 rows x 9 columns]"
            ]
          },
          "metadata": {
            "tags": []
          },
          "execution_count": 79
        }
      ]
    },
    {
      "cell_type": "markdown",
      "metadata": {
        "id": "PZ8JOjtJn5CX",
        "colab_type": "text"
      },
      "source": [
        "Visualizing the metrics support , confidence and lift"
      ]
    },
    {
      "cell_type": "code",
      "metadata": {
        "id": "MQDzFtxqoLG8",
        "colab_type": "code",
        "colab": {
          "base_uri": "https://localhost:8080/",
          "height": 295
        },
        "outputId": "9cf111c1-fc99-498e-ed15-c175ef0b74e5"
      },
      "source": [
        "#support versus confidence\n",
        "plt.scatter(rules['support'], rules['confidence'], alpha=0.5)\n",
        "plt.xlabel('support')\n",
        "plt.ylabel('confidence')\n",
        "plt.title('Support vs Confidence')\n",
        "plt.show()"
      ],
      "execution_count": 80,
      "outputs": [
        {
          "output_type": "display_data",
          "data": {
            "image/png": "[encoded data removed]",
            "text/plain": [
              "<Figure size 432x288 with 1 Axes>"
            ]
          },
          "metadata": {
            "tags": [],
            "needs_background": "light"
          }
        }
      ]
    },
    {
      "cell_type": "code",
      "metadata": {
        "id": "gfR2bIsvobZT",
        "colab_type": "code",
        "colab": {
          "base_uri": "https://localhost:8080/",
          "height": 295
        },
        "outputId": "8241ba03-e9ff-4138-a11a-8b4dc3f1f599"
      },
      "source": [
        "# Support versus Lift\n",
        "plt.scatter(rules['support'], rules['lift'], alpha=0.5)\n",
        "plt.xlabel('support')\n",
        "plt.ylabel('lift')\n",
        "plt.title('Support vs Lift')\n",
        "plt.show()"
      ],
      "execution_count": 82,
      "outputs": [
        {
          "output_type": "display_data",
          "data": {
            "image/png": "[encoded data removed]",
            "text/plain": [
              "<Figure size 432x288 with 1 Axes>"
            ]
          },
          "metadata": {
            "tags": [],
            "needs_background": "light"
          }
        }
      ]
    },
    {
      "cell_type": "code",
      "metadata": {
        "id": "pH8zRPNoot0t",
        "colab_type": "code",
        "colab": {
          "base_uri": "https://localhost:8080/",
          "height": 295
        },
        "outputId": "cd98c5cf-2d76-4777-d539-baa7d407db98"
      },
      "source": [
        "# confidence versus lift\n",
        "fit = np.polyfit(rules[\"lift\"], rules[\"confidence\"], 1)\n",
        "fit_fn = np.poly1d(fit)\n",
        "plt.plot(rules[\"lift\"], rules[\"confidence\"], \"yo\", rules[\"lift\"], \n",
        "fit_fn(rules[\"lift\"]))\n",
        "plt.xlabel('lift')\n",
        "plt.ylabel('confidence')\n",
        "plt.title('Confidence vs Lift')\n",
        "plt.show()"
      ],
      "execution_count": 86,
      "outputs": [
        {
          "output_type": "display_data",
          "data": {
            "image/png": "[encoded data removed]",
            "text/plain": [
              "<Figure size 432x288 with 1 Axes>"
            ]
          },
          "metadata": {
            "tags": [],
            "needs_background": "light"
          }
        }
      ]
    },
    {
      "cell_type": "markdown",
      "metadata": {
        "id": "OdKQcC6-lZx9",
        "colab_type": "text"
      },
      "source": [
        "## Interpretation and Recommendations - Part A (b)"
      ]
    },
    {
      "cell_type": "markdown",
      "metadata": {
        "id": "kwsN2mBBl1Ml",
        "colab_type": "text"
      },
      "source": [
        "To understand how we can use these association rules, we should look at different metrics that will help us determine what business decisions we can make. In this case, we choose the best combinations on the basis of:\n",
        "\n",
        "i) High Lift  - This is metric that determines profitability, thus important for decisions, especially since in our case *XYZ wants to increase revenue*\n",
        "\n",
        "ii) Good support - In this case, better support than others as the value is very low. This determines how frequently we expect this itemset to be purchased\n",
        "\n",
        "iii) Good Confidence - Whatever decision we make on the basis of support, this metric provides how confident we can be about the combination\n",
        "\n",
        "From the above graphs, we can see there are few rules that have a high lift and high confidence. There are two with high support and high lift. For example:\n",
        "\n",
        "i) Health Aid and Personal Care\n",
        "\n",
        "ii)  Health Aid and Househhold Cleaning\n",
        "\n",
        "iii) Groceries antecedent, Beverages as consequent\n",
        "\n",
        "## Business Recommendations\n",
        "\n",
        "Here the goal is to increase revenue for online retailer XYZ, thus we look at not only association mining rules but also the overall sales volume.\n",
        "\n",
        "**Recommendation 1**\n",
        "\n",
        "Since the combination of Health Aid with Personal Care and Household Cleaning, gives such a high value of lift, we should recommend items belonging to the latter two categories under \"People Frequently bought this with:\" , whenever a user is starting to **checkout** with just Health Aid Items. She/He is more likely to add these two with Health Aid Combination\n",
        "\n",
        "**Recommendation 2**\n",
        "\n",
        "From the rules, when Grocery item is added, there's a higher chance of a 'Beverage' being bought as well. Also, overall the volume of beverages bought is very high, which suggest its a popular item that's bought online and should be recommended alongside groceries to increase revenue.\n",
        "\n",
        "**LIMITATIONS:**\n",
        "1) In these two cases, we are recommending on the basis of departments, a more sophisticated analysis can be done on *brand* and *user* level to improve lift and increase confidence.\n",
        "\n",
        "2) Data needs to better collected and recorded to improve support which is very low through this dataset - probably owing to a very small sample size as compared to real world online transactional dataset. TO remedy this, the retailer can store and process its data through Big Data tools to ensure all transactions are taken into account to improve support and perform a more targeted market basket analysis\n",
        "\n"
      ]
    },
    {
      "cell_type": "code",
      "metadata": {
        "id": "P0zJde0j0h0t",
        "colab_type": "code",
        "colab": {
          "base_uri": "https://localhost:8080/",
          "height": 124
        },
        "outputId": "87ee7c1e-c6c2-4730-9ff9-f22d1f4a86a5"
      },
      "source": [
        "from google.colab import drive\n",
        "drive.mount('/content/drive')"
      ],
      "execution_count": 5,
      "outputs": [
        {
          "output_type": "stream",
          "text": [
            "Go to this URL in a browser: https://accounts.google.com/o/oauth2/auth?client_id=947318989803-6bn6qk8qdgf4n4g3pfee6491hc0brc4i.apps.googleusercontent.com&redirect_uri=urn%3aietf%3awg%3aoauth%3a2.0%3aoob&response_type=code&scope=email%20https%3a%2f%2fwww.googleapis.com%2fauth%2fdocs.test%20https%3a%2f%2fwww.googleapis.com%2fauth%2fdrive%20https%3a%2f%2fwww.googleapis.com%2fauth%2fdrive.photos.readonly%20https%3a%2f%2fwww.googleapis.com%2fauth%2fpeopleapi.readonly\n",
            "\n",
            "Enter your authorization code:\n",
            "··········\n",
            "Mounted at /content/drive\n"
          ],
          "name": "stdout"
        }
      ]
    }
  ]
}